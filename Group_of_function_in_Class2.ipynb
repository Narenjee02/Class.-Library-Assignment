{
 "cells": [
  {
   "cell_type": "code",
   "execution_count": 1,
   "id": "acb67366",
   "metadata": {},
   "outputs": [],
   "source": [
    "from groupoffunction import groupoffunction"
   ]
  },
  {
   "cell_type": "code",
   "execution_count": 2,
   "id": "31a98ab4",
   "metadata": {},
   "outputs": [
    {
     "name": "stdout",
     "output_type": "stream",
     "text": [
      "Sub-fields in AI are:\n",
      "Machine Learning\n",
      "Neural Networks\n",
      "Vision\n",
      "Robotics\n",
      "Speech Processing\n",
      "Natural Language Processing\n"
     ]
    },
    {
     "data": {
      "text/plain": [
       "'temp'"
      ]
     },
     "execution_count": 2,
     "metadata": {},
     "output_type": "execute_result"
    }
   ],
   "source": [
    "groupoffunction.subfields()"
   ]
  },
  {
   "cell_type": "code",
   "execution_count": 3,
   "id": "ac58cff6",
   "metadata": {},
   "outputs": [
    {
     "name": "stdout",
     "output_type": "stream",
     "text": [
      "Enter a number:5\n",
      "5 is Odd number\n"
     ]
    },
    {
     "data": {
      "text/plain": [
       "'Odd Number'"
      ]
     },
     "execution_count": 3,
     "metadata": {},
     "output_type": "execute_result"
    }
   ],
   "source": [
    "groupoffunction.oddEven()"
   ]
  },
  {
   "cell_type": "code",
   "execution_count": 4,
   "id": "c7de732b",
   "metadata": {},
   "outputs": [
    {
     "name": "stdout",
     "output_type": "stream",
     "text": [
      "Subject1=23\n",
      "Subject2=23\n",
      "Subject3=25\n",
      "Subject4=25\n",
      "Subject5=25\n",
      "Total : 121\n",
      "Percentage : 24.2\n"
     ]
    },
    {
     "data": {
      "text/plain": [
       "'SSLC'"
      ]
     },
     "execution_count": 4,
     "metadata": {},
     "output_type": "execute_result"
    }
   ],
   "source": [
    "groupoffunction.percentage()"
   ]
  },
  {
   "cell_type": "code",
   "execution_count": 5,
   "id": "2772718c",
   "metadata": {},
   "outputs": [
    {
     "name": "stdout",
     "output_type": "stream",
     "text": [
      "Height:23\n",
      "Breadth:25\n",
      "Area formula: (Height*Breadth)/2\n",
      "Area of Triangle: 287.5\n",
      "Height1:8\n",
      "Height2:9\n",
      "Breadth:6\n",
      "Perimeter formula: Height1+Height2+Breadth\n",
      "Perimeter of Triangle: 23\n"
     ]
    },
    {
     "data": {
      "text/plain": [
       "'Triangle'"
      ]
     },
     "execution_count": 5,
     "metadata": {},
     "output_type": "execute_result"
    }
   ],
   "source": [
    "groupoffunction.triangle()"
   ]
  },
  {
   "cell_type": "code",
   "execution_count": 7,
   "id": "2b9716e2",
   "metadata": {},
   "outputs": [
    {
     "name": "stdout",
     "output_type": "stream",
     "text": [
      "Your Gender:Male\n",
      "Your Age:20\n",
      "Not Eligible\n",
      "Your Gender:Female\n",
      "Your Age:12\n",
      "Not Eligible\n"
     ]
    },
    {
     "data": {
      "text/plain": [
       "'Not Eligible'"
      ]
     },
     "execution_count": 7,
     "metadata": {},
     "output_type": "execute_result"
    }
   ],
   "source": [
    "groupoffunction.Elegible()"
   ]
  },
  {
   "cell_type": "code",
   "execution_count": null,
   "id": "108174b4",
   "metadata": {},
   "outputs": [],
   "source": []
  }
 ],
 "metadata": {
  "kernelspec": {
   "display_name": "Python 3 (ipykernel)",
   "language": "python",
   "name": "python3"
  },
  "language_info": {
   "codemirror_mode": {
    "name": "ipython",
    "version": 3
   },
   "file_extension": ".py",
   "mimetype": "text/x-python",
   "name": "python",
   "nbconvert_exporter": "python",
   "pygments_lexer": "ipython3",
   "version": "3.11.5"
  }
 },
 "nbformat": 4,
 "nbformat_minor": 5
}
