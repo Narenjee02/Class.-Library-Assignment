{
 "cells": [
  {
   "cell_type": "code",
   "execution_count": 1,
   "id": "0b47b92d",
   "metadata": {},
   "outputs": [],
   "source": [
    " # Create a class and function, and list out the items in the list\n",
    "class SubfieldsInAI():\n",
    "    def subfields():\n",
    "        print(\"Sub-fields in AI are:\")\n",
    "        Lists=['Machine Learning','Neural Networks','Vision','Robotics','Speech Processing','Natural Language Processing']\n",
    "        for temp in Lists:\n",
    "            print(temp)\n",
    "            sub=\"temp\"\n",
    "        return sub"
   ]
  },
  {
   "cell_type": "code",
   "execution_count": 2,
   "id": "bebc88a0",
   "metadata": {},
   "outputs": [
    {
     "name": "stdout",
     "output_type": "stream",
     "text": [
      "Sub-fields in AI are:\n",
      "Machine Learning\n",
      "Neural Networks\n",
      "Vision\n",
      "Robotics\n",
      "Speech Processing\n",
      "Natural Language Processing\n"
     ]
    },
    {
     "data": {
      "text/plain": [
       "'temp'"
      ]
     },
     "execution_count": 2,
     "metadata": {},
     "output_type": "execute_result"
    }
   ],
   "source": [
    "SubfieldsInAI.subfields()"
   ]
  },
  {
   "cell_type": "code",
   "execution_count": 4,
   "id": "06b80463",
   "metadata": {},
   "outputs": [],
   "source": [
    "# Create a function that checks whether the given number is Odd or Even\n",
    "class OddEven():\n",
    "    def oddEven():\n",
    "        num=int(input(\"Enter a number:\"))\n",
    "        if(num%2)==0:\n",
    "            print(num,\"is Even number\")\n",
    "            message=\"Even Number\"  \n",
    "        else:\n",
    "            print(num,\"is Odd number\")\n",
    "            message=\"Odd Number\"\n",
    "        return message   \n"
   ]
  },
  {
   "cell_type": "code",
   "execution_count": 5,
   "id": "d4db946d",
   "metadata": {},
   "outputs": [
    {
     "name": "stdout",
     "output_type": "stream",
     "text": [
      "Enter a number:4\n",
      "4 is Even number\n"
     ]
    },
    {
     "data": {
      "text/plain": [
       "'Even Number'"
      ]
     },
     "execution_count": 5,
     "metadata": {},
     "output_type": "execute_result"
    }
   ],
   "source": [
    "OddEven.oddEven()"
   ]
  },
  {
   "cell_type": "code",
   "execution_count": 6,
   "id": "271d5ce8",
   "metadata": {},
   "outputs": [],
   "source": [
    "# Create "
   ]
  },
  {
   "cell_type": "code",
   "execution_count": 7,
   "id": "ccc05a65",
   "metadata": {},
   "outputs": [],
   "source": [
    "# calculate the percentage of your 10th mark\n",
    "class FindPercent():\n",
    "    def percentage():\n",
    "        Subject1=int(input(\"Subject1=\"))\n",
    "        Subject2=int(input(\"Subject2=\"))\n",
    "        Subject3=int(input(\"Subject3=\"))\n",
    "        Subject4=int(input(\"Subject4=\"))\n",
    "        Subject5=int(input(\"Subject5=\"))\n",
    "        Add=Subject1+Subject2+Subject3+Subject4+Subject5\n",
    "        print(\"Total :\",Add)\n",
    "        Percentage=Add/5\n",
    "        print(\"Percentage :\",Percentage)\n",
    "        X=\"SSLC\"\n",
    "        return X"
   ]
  },
  {
   "cell_type": "code",
   "execution_count": 8,
   "id": "dddf4f4d",
   "metadata": {},
   "outputs": [
    {
     "name": "stdout",
     "output_type": "stream",
     "text": [
      "Subject1=98\n",
      "Subject2=87\n",
      "Subject3=95\n",
      "Subject4=95\n",
      "Subject5=95\n",
      "Total : 470\n",
      "Percentage : 94.0\n"
     ]
    },
    {
     "data": {
      "text/plain": [
       "'SSLC'"
      ]
     },
     "execution_count": 8,
     "metadata": {},
     "output_type": "execute_result"
    }
   ],
   "source": [
    "FindPercent.percentage()"
   ]
  },
  {
   "cell_type": "code",
   "execution_count": 9,
   "id": "ba2579c8",
   "metadata": {},
   "outputs": [],
   "source": [
    "#print area and perimeter of triangle using class and functions\n",
    "class triangle():\n",
    "    def triangle():\n",
    "         Height=int(input(\"Height:\"))\n",
    "         Breadth=int(input(\"Breadth:\"))\n",
    "         print(\"Area formula: (Height*Breadth)/2\")\n",
    "         print(\"Area of Triangle:\",(Height*Breadth)/2)\n",
    "         Weight=\"Triangle\"\n",
    "         Height1=int(input(\"Height1:\"))\n",
    "         Height2=int(input(\"Height2:\"))\n",
    "         Breadth=int(input(\"Breadth:\"))\n",
    "         print(\"Perimeter formula: Height1+Height2+Breadth\")\n",
    "         print(\"Perimeter of Triangle:\",Height1+Height2+Breadth)\n",
    "         weight=\"HHB\"\n",
    "         return Weight"
   ]
  },
  {
   "cell_type": "code",
   "execution_count": 10,
   "id": "6d5794da",
   "metadata": {},
   "outputs": [
    {
     "name": "stdout",
     "output_type": "stream",
     "text": [
      "Height:98\n",
      "Breadth:85\n",
      "Area formula: (Height*Breadth)/2\n",
      "Area of Triangle: 4165.0\n",
      "Height1:4\n",
      "Height2:4\n",
      "Breadth:2\n",
      "Perimeter formula: Height1+Height2+Breadth\n",
      "Perimeter of Triangle: 10\n"
     ]
    },
    {
     "data": {
      "text/plain": [
       "'Triangle'"
      ]
     },
     "execution_count": 10,
     "metadata": {},
     "output_type": "execute_result"
    }
   ],
   "source": [
    "triangle.triangle()"
   ]
  },
  {
   "cell_type": "code",
   "execution_count": 11,
   "id": "8747cb3a",
   "metadata": {},
   "outputs": [],
   "source": [
    "# Create a function that tells elegibility of marriage for male and female according to their age limit like 21 for male and 18 for female\n",
    "class ElegiblityForMarriage():\n",
    "    def Elegible():\n",
    "            gender=input(\"Your Gender:\")\n",
    "            age=int(input(\"Your Age:\"))\n",
    "            if(age<21):\n",
    "                print(\"Not Eligible\")\n",
    "                age=\"Not Eligible\"\n",
    "            else:\n",
    "                print(\"Eligible\")\n",
    "                age=\"Eligible\"\n",
    "            gender=input(\"Your Gender:\")\n",
    "            age=int(input(\"Your Age:\"))\n",
    "            if(age<18):\n",
    "                print(\"Not Eligible\")\n",
    "                age=\"Not Eligible\"\n",
    "            else:\n",
    "                print(\"Eligible\")\n",
    "                age=\"Eligible\"\n",
    "            return age"
   ]
  },
  {
   "cell_type": "code",
   "execution_count": 12,
   "id": "3a2f8cd5",
   "metadata": {},
   "outputs": [
    {
     "name": "stdout",
     "output_type": "stream",
     "text": [
      "Your Gender:Female\n",
      "Your Age:45\n",
      "Eligible\n",
      "Your Gender:Male\n",
      "Your Age:20\n",
      "Eligible\n"
     ]
    },
    {
     "data": {
      "text/plain": [
       "'Eligible'"
      ]
     },
     "execution_count": 12,
     "metadata": {},
     "output_type": "execute_result"
    }
   ],
   "source": [
    "ElegiblityForMarriage.Elegible()"
   ]
  },
  {
   "cell_type": "code",
   "execution_count": null,
   "id": "f9168cfd",
   "metadata": {},
   "outputs": [],
   "source": []
  }
 ],
 "metadata": {
  "kernelspec": {
   "display_name": "Python 3 (ipykernel)",
   "language": "python",
   "name": "python3"
  },
  "language_info": {
   "codemirror_mode": {
    "name": "ipython",
    "version": 3
   },
   "file_extension": ".py",
   "mimetype": "text/x-python",
   "name": "python",
   "nbconvert_exporter": "python",
   "pygments_lexer": "ipython3",
   "version": "3.11.5"
  }
 },
 "nbformat": 4,
 "nbformat_minor": 5
}
